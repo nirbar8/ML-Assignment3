{
 "cells": [
  {
   "cell_type": "code",
   "execution_count": 14,
   "metadata": {},
   "outputs": [],
   "source": [
    "import numpy as np\n",
    "import torch\n",
    "import torchvision\n",
    "import os\n",
    "import matplotlib.pyplot as plt\n",
    "import time\n",
    "import scipy.io as sio\n",
    "from torchvision import datasets, transforms\n",
    "from torch import nn, optim\n",
    "import torch.nn.functional as F\n",
    "from tqdm import tqdm\n",
    "from torch.utils.tensorboard import SummaryWriter\n",
    "import copy\n"
   ]
  },
  {
   "cell_type": "markdown",
   "metadata": {},
   "source": [
    "## Configs"
   ]
  },
  {
   "cell_type": "code",
   "execution_count": 15,
   "metadata": {},
   "outputs": [
    {
     "name": "stdout",
     "output_type": "stream",
     "text": [
      "cpu\n"
     ]
    }
   ],
   "source": [
    "num_workers = 2\n",
    "sets_sizes = {'train' : 0.7,\n",
    "              'test' : 0.3}\n",
    "batch_size = 64\n",
    "edge_size = 28\n",
    "input_size = edge_size * edge_size\n",
    "output_size = 10\n",
    "epochs_num = 50\n",
    "\n",
    "device = torch.device('cuda' if torch.cuda.is_available() else 'cpu')\n",
    "print(device.type)"
   ]
  },
  {
   "cell_type": "markdown",
   "metadata": {},
   "source": [
    "## loading mnist dataset"
   ]
  },
  {
   "cell_type": "code",
   "execution_count": 16,
   "metadata": {},
   "outputs": [
    {
     "name": "stdout",
     "output_type": "stream",
     "text": [
      "70000\n"
     ]
    }
   ],
   "source": [
    "transform = transforms.Compose([\n",
    "    transforms.ToTensor(),\n",
    "])\n",
    "\n",
    "# download and load the dataset mnist784 with 70000 images\n",
    "dataset = torch.utils.data.ConcatDataset([datasets.MNIST(root='./data', train=False, download=True, transform=transform),\n",
    "                                          datasets.MNIST(root='./data', train=True, download=True, transform=transform)])\n",
    "\n",
    "print(len(dataset))"
   ]
  },
  {
   "cell_type": "markdown",
   "metadata": {},
   "source": [
    "## splitting the train data to train and validation"
   ]
  },
  {
   "cell_type": "code",
   "execution_count": 17,
   "metadata": {},
   "outputs": [],
   "source": [
    "# split the data into training and validation sets using torch.utils.data.random_split\n",
    "train_size = int(sets_sizes['train'] * len(dataset))\n",
    "test_size = len(dataset) - train_size\n",
    "train_dataset, test_dataset = torch.utils.data.random_split(dataset, [train_size, test_size])"
   ]
  },
  {
   "cell_type": "markdown",
   "metadata": {},
   "source": [
    "## creating dataloader for train, validation and test"
   ]
  },
  {
   "cell_type": "code",
   "execution_count": 18,
   "metadata": {},
   "outputs": [],
   "source": [
    "class GpuDataLoader:\n",
    "    def __init__(self, dl):\n",
    "        self.dl = dl\n",
    "\n",
    "    def __len__(self):\n",
    "        return len(self.dl)\n",
    "\n",
    "    def __iter__(self):\n",
    "        return map(lambda batch: (batch[0].to(device), batch[1].to(device)), self.dl)"
   ]
  },
  {
   "cell_type": "code",
   "execution_count": 19,
   "metadata": {},
   "outputs": [],
   "source": [
    "# creating dataloader for train, validation and test\n",
    "train_loader = torch.utils.data.DataLoader(train_dataset, batch_size=batch_size, num_workers=num_workers, shuffle=True)\n",
    "test_loader = torch.utils.data.DataLoader(test_dataset, batch_size=batch_size, num_workers=num_workers, shuffle=True)\n",
    "\n",
    "if device.type == 'cuda':\n",
    "    train_loader = GpuDataLoader(train_loader)\n",
    "    test_loader = GpuDataLoader(test_loader)"
   ]
  },
  {
   "cell_type": "markdown",
   "metadata": {},
   "source": [
    "## visualizing several images from the train_loader"
   ]
  },
  {
   "cell_type": "code",
   "execution_count": 20,
   "metadata": {},
   "outputs": [
    {
     "name": "stdout",
     "output_type": "stream",
     "text": [
      "batch of images shape:  torch.Size([64, 1, 28, 28])\n",
      "batch of labels shape:  torch.Size([64])\n"
     ]
    },
    {
     "data": {
      "image/png": "[encoded data removed]",
      "text/plain": [
       "<Figure size 432x288 with 6 Axes>"
      ]
     },
     "metadata": {
      "needs_background": "light"
     },
     "output_type": "display_data"
    }
   ],
   "source": [
    "# get a single batch\n",
    "dataiter = iter(train_loader)\n",
    "images, labels = next(dataiter)\n",
    "print(\"batch of images shape: \", images.shape)\n",
    "print(\"batch of labels shape: \", labels.shape)\n",
    "\n",
    "# show batch 6 first images\n",
    "fig, axs = plt.subplots(2, 3, constrained_layout=True)\n",
    "for idx, ax in enumerate(axs.ravel()):\n",
    "    ax.imshow(images[idx].cpu().numpy().transpose((1, 2,0)))\n",
    "    ax.set_title(str(labels[idx].item()))"
   ]
  },
  {
   "cell_type": "markdown",
   "metadata": {},
   "source": [
    "## building the model"
   ]
  },
  {
   "cell_type": "code",
   "execution_count": 21,
   "metadata": {},
   "outputs": [],
   "source": [
    "# fully connected neural network\n",
    "class FC_Model(nn.Module):\n",
    "    def __init__(self, input_size, hidden_sizes, output_size=10):\n",
    "        super(FC_Model, self).__init__()\n",
    "        self.input_size = input_size\n",
    "        self.output_size = output_size\n",
    "        self.hidden_sizes = hidden_sizes\n",
    "\n",
    "        # fully connected layers\n",
    "        self.layers = nn.ModuleList()\n",
    "        self.layers.append(nn.Linear(input_size, hidden_sizes[0]))\n",
    "        self.layers.append(nn.Sigmoid())\n",
    "        for i in range(len(hidden_sizes)-1):\n",
    "            self.layers.append(nn.Linear(hidden_sizes[i], hidden_sizes[i+1]))\n",
    "            self.layers.append(nn.Sigmoid())\n",
    "        self.layers.append(nn.Linear(hidden_sizes[-1], output_size))\n",
    "        \n",
    "    def forward(self, x):\n",
    "        x = x.view(-1, self.input_size)\n",
    "        for layer in self.layers:\n",
    "            x = layer(x)\n",
    "        return x"
   ]
  },
  {
   "cell_type": "markdown",
   "metadata": {},
   "source": [
    "## training and score calculation"
   ]
  },
  {
   "cell_type": "code",
   "execution_count": 22,
   "metadata": {},
   "outputs": [],
   "source": [
    "def int_to_onehot(y, num_labels):\n",
    "    \n",
    "    ary = np.zeros((y.shape[0], num_labels))\n",
    "    for i, val in enumerate(y):\n",
    "        ary[i, val] = 1\n",
    "\n",
    "    return ary"
   ]
  },
  {
   "cell_type": "code",
   "execution_count": 23,
   "metadata": {},
   "outputs": [],
   "source": [
    "def calc_acc(model, set='train'):\n",
    "  if set == 'train':\n",
    "      loader = train_loader\n",
    "  elif set == 'val':\n",
    "      loader = val_loader\n",
    "  elif set == 'test':\n",
    "      loader = test_loader\n",
    "  else:\n",
    "      raise ValueError('set must be one of train, val, test')\n",
    "\n",
    "  correct = 0\n",
    "  total = 0\n",
    "  with torch.no_grad():\n",
    "    for images, labels in loader:\n",
    "\n",
    "      outputs = model(images)\n",
    "      _, predicted = torch.max(outputs.data, 1)\n",
    "      total += labels.shape[0]\n",
    "      correct += (predicted == labels).sum().item()\n",
    "  return correct / total\n",
    "\n",
    "def calc_loss(model, set='train'):\n",
    "  if set == 'train':\n",
    "    loader = train_loader\n",
    "  elif set == 'val':\n",
    "    loader = val_loader\n",
    "  elif set == 'test':\n",
    "    loader = test_loader\n",
    "  else:\n",
    "    raise ValueError('set must be one of train, val, test')\n",
    "\n",
    "  loss = 0\n",
    "  with torch.no_grad():\n",
    "    for images, labels in loader:\n",
    "      outputs = model(images)\n",
    "      loss += F.mse_loss(outputs, torch.Tensor(int_to_onehot(labels, output_size)))\n",
    "  return loss / len(loader)"
   ]
  },
  {
   "cell_type": "code",
   "execution_count": 24,
   "metadata": {},
   "outputs": [],
   "source": [
    "def train_model(model, epochs_num=30, lr=0.001, log_dir=None):\n",
    "  writer = SummaryWriter(log_dir=log_dir)\n",
    "  criterion = nn.MSELoss()\n",
    "  optimizer = optim.Adam(model.parameters(), lr=lr)\n",
    "  for epoch in tqdm(range(epochs_num)):\n",
    "    for idx, batch in enumerate(train_loader):\n",
    "      X, y = batch\n",
    "\n",
    "      output = model(X)\n",
    "      loss = criterion(output, torch.Tensor(int_to_onehot(y, output_size)))\n",
    "      \n",
    "      optimizer.zero_grad()\n",
    "      loss.backward()\n",
    "      optimizer.step()\n",
    "\n",
    "    # log the losses and accuracy after every epoch\n",
    "    writer.add_scalar('Loss/train', calc_loss(model, set='train'), epoch)\n",
    "    writer.add_scalar('Accuracy/train', calc_acc(model, set='train'), epoch)\n",
    "    writer.flush()\n",
    "\n",
    "    # save model checkpoints after every 5 epochs\n",
    "    if epoch % 5 == 0:\n",
    "          torch.save(model.state_dict(), os.path.join(log_dir, 'model_epoch_{}.pt'.format(epoch)))\n",
    "\n",
    "  writer.close()"
   ]
  },
  {
   "cell_type": "markdown",
   "metadata": {},
   "source": [
    "## Running net"
   ]
  },
  {
   "cell_type": "code",
   "execution_count": 25,
   "metadata": {},
   "outputs": [
    {
     "name": "stderr",
     "output_type": "stream",
     "text": [
      "100%|██████████| 50/50 [21:41<00:00, 26.04s/it]\n"
     ]
    },
    {
     "ename": "FileNotFoundError",
     "evalue": "[Errno 2] No such file or directory: './models/fc_[50, 50].pt'",
     "output_type": "error",
     "traceback": [
      "\u001b[1;31m---------------------------------------------------------------------------\u001b[0m",
      "\u001b[1;31mFileNotFoundError\u001b[0m                         Traceback (most recent call last)",
      "\u001b[1;32mc:\\Users\\nirba\\Nir Barel\\BGU\\semester 6\\ML\\A3\\ML-Assignment3\\Task1\\2_layers_torch.ipynb Cell 20\u001b[0m in \u001b[0;36m<module>\u001b[1;34m\u001b[0m\n\u001b[0;32m      <a href='vscode-notebook-cell:/c%3A/Users/nirba/Nir%20Barel/BGU/semester%206/ML/A3/ML-Assignment3/Task1/2_layers_torch.ipynb#ch0000021?line=3'>4</a>\u001b[0m fc_model \u001b[39m=\u001b[39m FC_Model(input_size, hidden_sizes, output_size)\u001b[39m.\u001b[39mto(device)\n\u001b[0;32m      <a href='vscode-notebook-cell:/c%3A/Users/nirba/Nir%20Barel/BGU/semester%206/ML/A3/ML-Assignment3/Task1/2_layers_torch.ipynb#ch0000021?line=4'>5</a>\u001b[0m train_model(fc_model, epochs_num\u001b[39m=\u001b[39mepochs_num, log_dir\u001b[39m=\u001b[39m\u001b[39m'\u001b[39m\u001b[39m./runs/fc/\u001b[39m\u001b[39m'\u001b[39m \u001b[39m+\u001b[39m \u001b[39mstr\u001b[39m(hidden_sizes))\n\u001b[1;32m----> <a href='vscode-notebook-cell:/c%3A/Users/nirba/Nir%20Barel/BGU/semester%206/ML/A3/ML-Assignment3/Task1/2_layers_torch.ipynb#ch0000021?line=5'>6</a>\u001b[0m \u001b[48;5;17mtorch\u001b[39m.\u001b[39;49m\u001b[48;5;17msave\u001b[48;5;17m(\u001b[48;5;17mfc_model\u001b[39m.\u001b[39;49m\u001b[48;5;17mstate_dict\u001b[48;5;17m(\u001b[48;5;17m)\u001b[48;5;17m,\u001b[48;5;17m \u001b[39m'\u001b[39;49m\u001b[39m./models/fc_\u001b[39;49m\u001b[39m'\u001b[39;49m\u001b[48;5;17m \u001b[39m+\u001b[39;49m\u001b[48;5;17m \u001b[39mstr\u001b[39;49m\u001b[48;5;17m(\u001b[48;5;17mhidden_sizes\u001b[48;5;17m)\u001b[48;5;17m \u001b[39m+\u001b[39;49m\u001b[48;5;17m \u001b[39m'\u001b[39;49m\u001b[39m.pt\u001b[39;49m\u001b[39m'\u001b[39;49m\u001b[48;5;17m)\n",
      "File \u001b[1;32m~\\AppData\\Local\\Packages\\PythonSoftwareFoundation.Python.3.8_qbz5n2kfra8p0\\LocalCache\\local-packages\\Python38\\site-packages\\torch\\serialization.py\u001b[0m, in \u001b[0;36msave\u001b[1;34m(obj, f, pickle_module, pickle_protocol, _use_new_zipfile_serialization)\u001b[0m\n\u001b[0;32m    340\u001b[0m \u001b[39m\"\"\"save(obj, f, pickle_module=pickle, pickle_protocol=DEFAULT_PROTOCOL, _use_new_zipfile_serialization=True)\u001b[39;00m\n\u001b[0;32m    341\u001b[0m \n\u001b[0;32m    342\u001b[0m \u001b[39mSaves an object to a disk file.\u001b[39;00m\n\u001b[1;32m   (...)\u001b[0m\n\u001b[0;32m    372\u001b[0m \u001b[39m    >>> torch.save(x, buffer)\u001b[39;00m\n\u001b[0;32m    373\u001b[0m \u001b[39m\"\"\"\u001b[39;00m\n\u001b[0;32m    374\u001b[0m _check_dill_version(pickle_module)\n\u001b[1;32m--> 376\u001b[0m \u001b[39mwith\u001b[39;00m \u001b[48;5;17m_open_file_like\u001b[48;5;17m(\u001b[48;5;17mf\u001b[48;5;17m,\u001b[48;5;17m \u001b[39m'\u001b[39;49m\u001b[39mwb\u001b[39;49m\u001b[39m'\u001b[39;49m\u001b[48;5;17m) \u001b[39mas\u001b[39;00m opened_file:\n\u001b[0;32m    377\u001b[0m     \u001b[39mif\u001b[39;00m _use_new_zipfile_serialization:\n\u001b[0;32m    378\u001b[0m         \u001b[39mwith\u001b[39;00m _open_zipfile_writer(opened_file) \u001b[39mas\u001b[39;00m opened_zipfile:\n",
      "File \u001b[1;32m~\\AppData\\Local\\Packages\\PythonSoftwareFoundation.Python.3.8_qbz5n2kfra8p0\\LocalCache\\local-packages\\Python38\\site-packages\\torch\\serialization.py\u001b[0m, in \u001b[0;36m_open_file_like\u001b[1;34m(name_or_buffer, mode)\u001b[0m\n\u001b[0;32m    228\u001b[0m \u001b[39mdef\u001b[39;00m \u001b[39m_open_file_like\u001b[39m(name_or_buffer, mode):\n\u001b[0;32m    229\u001b[0m     \u001b[39mif\u001b[39;00m _is_path(name_or_buffer):\n\u001b[1;32m--> 230\u001b[0m         \u001b[39mreturn\u001b[39;00m \u001b[48;5;17m_open_file\u001b[48;5;17m(\u001b[48;5;17mname_or_buffer\u001b[48;5;17m,\u001b[48;5;17m \u001b[48;5;17mmode\u001b[48;5;17m)\n\u001b[0;32m    231\u001b[0m     \u001b[39melse\u001b[39;00m:\n\u001b[0;32m    232\u001b[0m         \u001b[39mif\u001b[39;00m \u001b[39m'\u001b[39m\u001b[39mw\u001b[39m\u001b[39m'\u001b[39m \u001b[39min\u001b[39;00m mode:\n",
      "File \u001b[1;32m~\\AppData\\Local\\Packages\\PythonSoftwareFoundation.Python.3.8_qbz5n2kfra8p0\\LocalCache\\local-packages\\Python38\\site-packages\\torch\\serialization.py\u001b[0m, in \u001b[0;36m_open_file.__init__\u001b[1;34m(self, name, mode)\u001b[0m\n\u001b[0;32m    210\u001b[0m \u001b[39mdef\u001b[39;00m \u001b[39m__init__\u001b[39m(\u001b[39mself\u001b[39m, name, mode):\n\u001b[1;32m--> 211\u001b[0m     \u001b[39msuper\u001b[39m(_open_file, \u001b[39mself\u001b[39m)\u001b[39m.\u001b[39m\u001b[39m__init__\u001b[39m(\u001b[39mopen\u001b[39;49m\u001b[48;5;17m(\u001b[48;5;17mname\u001b[48;5;17m,\u001b[48;5;17m \u001b[48;5;17mmode\u001b[48;5;17m))\n",
      "\u001b[1;31mFileNotFoundError\u001b[0m: [Errno 2] No such file or directory: './models/fc_[50, 50].pt'"
     ]
    }
   ],
   "source": [
    "# if model not exist, training it\n",
    "hidden_sizes = [50,50]\n",
    "if not os.path.exists('./models/fc_' + str(hidden_sizes) + '.pt'):\n",
    "    fc_model = FC_Model(input_size, hidden_sizes, output_size).to(device)\n",
    "    train_model(fc_model, epochs_num=epochs_num, log_dir='./runs/fc/' + str(hidden_sizes))\n",
    "    torch.save(fc_model.state_dict(), './models/fc_' + str(hidden_sizes) + '.pt')"
   ]
  },
  {
   "cell_type": "code",
   "execution_count": null,
   "metadata": {},
   "outputs": [],
   "source": [
    "# print test accuracy of the model\n",
    "print('Test accuracy: ', calc_acc(fc_model, set='test'))"
   ]
  }
 ],
 "metadata": {
  "kernelspec": {
   "display_name": "Python 3.8.10 64-bit (windows store)",
   "language": "python",
   "name": "python3"
  },
  "language_info": {
   "codemirror_mode": {
    "name": "ipython",
    "version": 3
   },
   "file_extension": ".py",
   "mimetype": "text/x-python",
   "name": "python",
   "nbconvert_exporter": "python",
   "pygments_lexer": "ipython3",
   "version": "3.8.10"
  },
  "orig_nbformat": 4,
  "vscode": {
   "interpreter": {
    "hash": "e77538e53907e2d67847cce25fbeb05bb5a5b783e193f715ae63ebfcddd60c29"
   }
  }
 },
 "nbformat": 4,
 "nbformat_minor": 2
}
