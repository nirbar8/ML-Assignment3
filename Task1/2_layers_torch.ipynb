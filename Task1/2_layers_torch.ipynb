{
 "cells": [
  {
   "cell_type": "code",
   "execution_count": 1,
   "metadata": {},
   "outputs": [],
   "source": [
    "import numpy as np\n",
    "import torch\n",
    "import torchvision\n",
    "import os\n",
    "import matplotlib.pyplot as plt\n",
    "import time\n",
    "import scipy.io as sio\n",
    "from torchvision import datasets, transforms\n",
    "from torch import nn, optim\n",
    "import torch.nn.functional as F\n",
    "from tqdm import tqdm\n",
    "from torch.utils.tensorboard import SummaryWriter\n",
    "import copy\n",
    "from sklearn.metrics import roc_auc_score"
   ]
  },
  {
   "cell_type": "markdown",
   "metadata": {},
   "source": [
    "## Configs"
   ]
  },
  {
   "cell_type": "code",
   "execution_count": 2,
   "metadata": {},
   "outputs": [
    {
     "name": "stdout",
     "output_type": "stream",
     "text": [
      "cpu\n"
     ]
    }
   ],
   "source": [
    "num_workers = 2\n",
    "sets_sizes = {'train' : 0.7,\n",
    "              'test' : 0.3}\n",
    "batch_size = 64\n",
    "edge_size = 28\n",
    "input_size = edge_size * edge_size\n",
    "output_size = 10\n",
    "epochs_num = 50\n",
    "\n",
    "device = torch.device('cuda' if torch.cuda.is_available() else 'cpu')\n",
    "print(device.type)"
   ]
  },
  {
   "cell_type": "markdown",
   "metadata": {},
   "source": [
    "## loading mnist dataset"
   ]
  },
  {
   "cell_type": "code",
   "execution_count": 3,
   "metadata": {},
   "outputs": [
    {
     "name": "stdout",
     "output_type": "stream",
     "text": [
      "70000\n"
     ]
    }
   ],
   "source": [
    "transform = transforms.Compose([\n",
    "    transforms.ToTensor(),\n",
    "])\n",
    "\n",
    "# download and load the dataset mnist784 with 70000 images\n",
    "dataset = torch.utils.data.ConcatDataset([datasets.MNIST(root='./data', train=False, download=True, transform=transform),\n",
    "                                          datasets.MNIST(root='./data', train=True, download=True, transform=transform)])\n",
    "\n",
    "print(len(dataset))"
   ]
  },
  {
   "cell_type": "markdown",
   "metadata": {},
   "source": [
    "## splitting the train data to train and validation"
   ]
  },
  {
   "cell_type": "code",
   "execution_count": 4,
   "metadata": {},
   "outputs": [],
   "source": [
    "# split the data into training and validation sets using torch.utils.data.random_split\n",
    "train_size = int(sets_sizes['train'] * len(dataset))\n",
    "test_size = len(dataset) - train_size\n",
    "train_dataset, test_dataset = torch.utils.data.random_split(dataset, [train_size, test_size])"
   ]
  },
  {
   "cell_type": "markdown",
   "metadata": {},
   "source": [
    "## creating dataloader for train, validation and test"
   ]
  },
  {
   "cell_type": "code",
   "execution_count": 5,
   "metadata": {},
   "outputs": [],
   "source": [
    "class GpuDataLoader:\n",
    "    def __init__(self, dl):\n",
    "        self.dl = dl\n",
    "\n",
    "    def __len__(self):\n",
    "        return len(self.dl)\n",
    "\n",
    "    def __iter__(self):\n",
    "        return map(lambda batch: (batch[0].to(device), batch[1].to(device)), self.dl)"
   ]
  },
  {
   "cell_type": "code",
   "execution_count": 6,
   "metadata": {},
   "outputs": [],
   "source": [
    "# creating dataloader for train, validation and test\n",
    "train_loader = torch.utils.data.DataLoader(train_dataset, batch_size=batch_size, num_workers=num_workers, shuffle=True)\n",
    "test_loader = torch.utils.data.DataLoader(test_dataset, batch_size=batch_size, num_workers=num_workers, shuffle=True)\n",
    "\n",
    "if device.type == 'cuda':\n",
    "    train_loader = GpuDataLoader(train_loader)\n",
    "    test_loader = GpuDataLoader(test_loader)"
   ]
  },
  {
   "cell_type": "markdown",
   "metadata": {},
   "source": [
    "## visualizing several images from the train_loader"
   ]
  },
  {
   "cell_type": "code",
   "execution_count": 7,
   "metadata": {},
   "outputs": [
    {
     "name": "stdout",
     "output_type": "stream",
     "text": [
      "batch of images shape:  torch.Size([64, 1, 28, 28])\n",
      "batch of labels shape:  torch.Size([64])\n"
     ]
    },
    {
     "data": {
      "image/png": "[encoded data removed]",
      "text/plain": [
       "<Figure size 432x288 with 6 Axes>"
      ]
     },
     "metadata": {
      "needs_background": "light"
     },
     "output_type": "display_data"
    }
   ],
   "source": [
    "# get a single batch\n",
    "dataiter = iter(train_loader)\n",
    "images, labels = next(dataiter)\n",
    "print(\"batch of images shape: \", images.shape)\n",
    "print(\"batch of labels shape: \", labels.shape)\n",
    "\n",
    "# show batch 6 first images\n",
    "fig, axs = plt.subplots(2, 3, constrained_layout=True)\n",
    "for idx, ax in enumerate(axs.ravel()):\n",
    "    ax.imshow(images[idx].cpu().numpy().transpose((1, 2,0)))\n",
    "    ax.set_title(str(labels[idx].item()))"
   ]
  },
  {
   "cell_type": "markdown",
   "metadata": {},
   "source": [
    "## building the model"
   ]
  },
  {
   "cell_type": "code",
   "execution_count": 8,
   "metadata": {},
   "outputs": [],
   "source": [
    "# fully connected neural network\n",
    "class FC_Model(nn.Module):\n",
    "    def __init__(self, input_size, hidden_sizes, output_size=10):\n",
    "        super(FC_Model, self).__init__()\n",
    "        self.input_size = input_size\n",
    "        self.output_size = output_size\n",
    "        self.hidden_sizes = hidden_sizes\n",
    "\n",
    "        # fully connected layers\n",
    "        self.layers = nn.ModuleList()\n",
    "        self.layers.append(nn.Linear(input_size, hidden_sizes[0]))\n",
    "        self.layers.append(nn.Sigmoid())\n",
    "        for i in range(len(hidden_sizes)-1):\n",
    "            self.layers.append(nn.Linear(hidden_sizes[i], hidden_sizes[i+1]))\n",
    "            self.layers.append(nn.Sigmoid())\n",
    "        self.layers.append(nn.Linear(hidden_sizes[-1], output_size))\n",
    "        \n",
    "    def forward(self, x):\n",
    "        x = x.view(-1, self.input_size)\n",
    "        for layer in self.layers:\n",
    "            x = layer(x)\n",
    "        return x"
   ]
  },
  {
   "cell_type": "markdown",
   "metadata": {},
   "source": [
    "## training and score calculation"
   ]
  },
  {
   "cell_type": "code",
   "execution_count": 9,
   "metadata": {},
   "outputs": [],
   "source": [
    "def calc_acc(model, set='train'):\n",
    "  if set == 'train':\n",
    "      loader = train_loader\n",
    "  elif set == 'val':\n",
    "      loader = val_loader\n",
    "  elif set == 'test':\n",
    "      loader = test_loader\n",
    "  else:\n",
    "      raise ValueError('set must be one of train, val, test')\n",
    "\n",
    "  correct = 0\n",
    "  total = 0\n",
    "  with torch.no_grad():\n",
    "    for images, labels in loader:\n",
    "\n",
    "      outputs = model(images)\n",
    "      _, predicted = torch.max(outputs.data, 1)\n",
    "      total += labels.shape[0]\n",
    "      correct += (predicted == labels).sum().item()\n",
    "  return correct / total\n",
    "\n",
    "def calc_loss(model, set='train'):\n",
    "  if set == 'train':\n",
    "    loader = train_loader\n",
    "  elif set == 'val':\n",
    "    loader = val_loader\n",
    "  elif set == 'test':\n",
    "    loader = test_loader\n",
    "  else:\n",
    "    raise ValueError('set must be one of train, val, test')\n",
    "\n",
    "  loss = 0\n",
    "  with torch.no_grad():\n",
    "    for images, labels in loader:\n",
    "      outputs = model(images)\n",
    "      loss += F.mse_loss(outputs, torch.Tensor(int_to_onehot(labels, output_size)))\n",
    "  return loss / len(loader)"
   ]
  },
  {
   "cell_type": "code",
   "execution_count": 10,
   "metadata": {},
   "outputs": [],
   "source": [
    "def train_model(model, epochs_num=30, lr=0.001, log_dir=None):\n",
    "  writer = SummaryWriter(log_dir=log_dir)\n",
    "  criterion = nn.MSELoss()\n",
    "  optimizer = optim.Adam(model.parameters(), lr=lr)\n",
    "  for epoch in tqdm(range(epochs_num)):\n",
    "    for idx, batch in enumerate(train_loader):\n",
    "      X, y = batch\n",
    "\n",
    "      output = model(X)\n",
    "      loss = criterion(output, torch.Tensor(int_to_onehot(y, output_size)))\n",
    "      \n",
    "      optimizer.zero_grad()\n",
    "      loss.backward()\n",
    "      optimizer.step()\n",
    "\n",
    "    # log the losses and accuracy after every epoch\n",
    "    writer.add_scalar('Loss/train', calc_loss(model, set='train'), epoch)\n",
    "    writer.add_scalar('Accuracy/train', calc_acc(model, set='train'), epoch)\n",
    "    writer.flush()\n",
    "\n",
    "    # save model checkpoints after every 5 epochs\n",
    "    if epoch % 5 == 0:\n",
    "          torch.save(model.state_dict(), os.path.join(log_dir, 'model_epoch_{}.pt'.format(epoch)))\n",
    "\n",
    "  writer.close()"
   ]
  },
  {
   "cell_type": "markdown",
   "metadata": {},
   "source": [
    "## Training net"
   ]
  },
  {
   "cell_type": "code",
   "execution_count": 11,
   "metadata": {},
   "outputs": [],
   "source": [
    "# if model not exist, training it\n",
    "hidden_sizes = [50,50]\n",
    "model_path = './model_torch_fc_2_layers.pt'\n",
    "fc_model = FC_Model(input_size, hidden_sizes, output_size).to(device)\n",
    "if not os.path.exists(model_path):\n",
    "    train_model(fc_model, epochs_num=epochs_num, log_dir='./runs/fc_torch/' + str(hidden_sizes))\n",
    "    torch.save(fc_model.state_dict(), model_path)\n",
    "else:\n",
    "    fc_model.load_state_dict(torch.load(model_path))"
   ]
  },
  {
   "cell_type": "code",
   "execution_count": 12,
   "metadata": {},
   "outputs": [],
   "source": [
    "# convert test_dataset to tensor X_test and y_test\n",
    "X_test = torch.Tensor([]).view(-1, input_size)\n",
    "y_test = torch.Tensor([])\n",
    "for images, labels in test_loader:\n",
    "    images = images.view(-1, input_size)\n",
    "    X_test = torch.cat((X_test, images.cpu()))\n",
    "    y_test = torch.cat((y_test, labels.cpu()))\n"
   ]
  },
  {
   "cell_type": "code",
   "execution_count": 14,
   "metadata": {},
   "outputs": [
    {
     "name": "stdout",
     "output_type": "stream",
     "text": [
      "Model acc on test set:  98.533 %\n"
     ]
    }
   ],
   "source": [
    "print(f\"Model acc on test set: \", round(calc_acc(fc_model, set='test') * 100, 3), '%') "
   ]
  },
  {
   "cell_type": "code",
   "execution_count": 13,
   "metadata": {},
   "outputs": [
    {
     "name": "stdout",
     "output_type": "stream",
     "text": [
      "Model macro auc on test set: 99.89 %\n"
     ]
    }
   ],
   "source": [
    "probs = fc_model(X_test).detach().numpy()\n",
    "probs = np.array([x / np.sum(x) for x in probs])\n",
    "test_macro_auc = roc_auc_score(y_test, probs, average='macro', multi_class='ovr')\n",
    "print(f'Model macro auc on test set: {round(test_macro_auc * 100, 3)}', '%')"
   ]
  }
 ],
 "metadata": {
  "kernelspec": {
   "display_name": "Python 3.8.10 64-bit (windows store)",
   "language": "python",
   "name": "python3"
  },
  "language_info": {
   "codemirror_mode": {
    "name": "ipython",
    "version": 3
   },
   "file_extension": ".py",
   "mimetype": "text/x-python",
   "name": "python",
   "nbconvert_exporter": "python",
   "pygments_lexer": "ipython3",
   "version": "3.8.10"
  },
  "orig_nbformat": 4,
  "vscode": {
   "interpreter": {
    "hash": "e77538e53907e2d67847cce25fbeb05bb5a5b783e193f715ae63ebfcddd60c29"
   }
  }
 },
 "nbformat": 4,
 "nbformat_minor": 2
}
